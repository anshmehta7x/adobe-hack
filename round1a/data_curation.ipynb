{
 "cells": [
  {
   "cell_type": "markdown",
   "id": "714b8e0f",
   "metadata": {},
   "source": [
    "# PDF Text Extraction and Analysis - Batch Processing for Sample-1a\n",
    "\n",
    "## Setting Input and Output Directories\n",
    "This notebook processes multiple PDF documents from the sample-1a dataset to extract text and structure. The next cell sets up the input PDF directory path and the corresponding JSON output directory to build a larger dataset."
   ]
  },
  {
   "cell_type": "code",
   "execution_count": 67,
   "id": "f34e69a2",
   "metadata": {},
   "outputs": [
    {
     "name": "stdout",
     "output_type": "stream",
     "text": [
      "Found 7 PDF files in the directory.\n",
      "Found 5 JSON files in the directory.\n",
      "Processing 5 PDFs with matching JSON files.\n"
     ]
    }
   ],
   "source": [
    "import os\n",
    "import glob\n",
    "\n",
    "# Define the input and output directories\n",
    "pdf_dir = \"../hackathon-task/sample-1a/Datasets/Pdfs/\"\n",
    "json_dir = \"../hackathon-task/sample-1a/Datasets/Output.json/\"\n",
    "\n",
    "# Get list of all PDF files in the directory\n",
    "pdf_files = glob.glob(os.path.join(pdf_dir, \"*.pdf\"))\n",
    "\n",
    "# Get list of all JSON files in the directory\n",
    "json_files = glob.glob(os.path.join(json_dir, \"*.json\"))\n",
    "\n",
    "# Map PDFs to their corresponding JSON files (if available)\n",
    "pdf_to_json = {}\n",
    "for pdf_path in pdf_files:\n",
    "    pdf_basename = os.path.basename(pdf_path).split('.')[0]\n",
    "    json_path = os.path.join(json_dir, f\"{pdf_basename}.json\")\n",
    "    \n",
    "    # Only include PDFs that have corresponding JSON files\n",
    "    if os.path.exists(json_path):\n",
    "        pdf_to_json[pdf_path] = json_path\n",
    "\n",
    "print(f\"Found {len(pdf_files)} PDF files in the directory.\")\n",
    "print(f\"Found {len(json_files)} JSON files in the directory.\")\n",
    "print(f\"Processing {len(pdf_to_json)} PDFs with matching JSON files.\")"
   ]
  },
  {
   "cell_type": "markdown",
   "id": "e61dee08",
   "metadata": {},
   "source": [
    "# Text Extraction Using MultiProcessing\n",
    "The code below imports the custom `extract` module to extract text from the PDF file. It uses multiprocessing to efficiently extract text snippets from all pages and retrieves the page dimensions which will be needed for feature engineering later."
   ]
  },
  {
   "cell_type": "markdown",
   "id": "d2956ce8",
   "metadata": {},
   "source": [
    "# Batch Processing Function\n",
    "Let's create a function that processes a single PDF file and its corresponding JSON output file from the sample-1a dataset. This function will encapsulate all the processing steps from the original notebook so we can easily apply them to multiple files."
   ]
  },
  {
   "cell_type": "code",
   "execution_count": 68,
   "id": "e1621ad0",
   "metadata": {},
   "outputs": [],
   "source": [
    "import extract\n",
    "import pandas as pd\n",
    "import json\n",
    "import re\n",
    "from collections import Counter\n",
    "from thefuzz import fuzz\n",
    "import os\n",
    "\n",
    "def process_pdf_file(pdf_path, json_path):\n",
    "    \"\"\"Process a single PDF file and its corresponding JSON file\n",
    "    \n",
    "    Args:\n",
    "        pdf_path: Path to the PDF file\n",
    "        json_path: Path to the corresponding JSON file with ground truth\n",
    "        output_csv_dir: Directory to save the output CSV\n",
    "        \n",
    "    Returns:\n",
    "        DataFrame containing the labeled text lines\n",
    "    \"\"\"\n",
    "    print(f\"Processing: {os.path.basename(pdf_path)}\")\n",
    "    \n",
    "    # Initialize the extractor\n",
    "    extractor = extract.TextExtractor(pdf_path)\n",
    "    texts = extractor.extract_text_from_all_pages_multiprocessing()\n",
    "    \n",
    "    # Get page dimensions\n",
    "    dims = extractor.get_page_dimensions(0)\n",
    "    PAGE_WIDTH = dims[\"width\"]\n",
    "    PAGE_HEIGHT = dims[\"height\"]\n",
    "    \n",
    "    # Sort text snippets\n",
    "    sorted_snippets = sorted(texts, key=lambda s: (s['page'], s['y_position'], s['bbox'][0]))\n",
    "    \n",
    "    # Group snippets into lines and process them\n",
    "    def group_snippets_into_lines(snippets, y_tolerance=2.0):\n",
    "        if not snippets:\n",
    "            return []\n",
    "            \n",
    "        lines = []\n",
    "        current_line_snippets = [snippets[0]]\n",
    "        \n",
    "        for i in range(1, len(snippets)):\n",
    "            prev_snippet = snippets[i-1]\n",
    "            current_snippet = snippets[i]\n",
    "            \n",
    "            if (current_snippet['page'] == prev_snippet['page'] and \n",
    "                abs(current_snippet['y_position'] - prev_snippet['y_position']) < y_tolerance):\n",
    "                current_line_snippets.append(current_snippet)\n",
    "            else:\n",
    "                lines.append(current_line_snippets)\n",
    "                current_line_snippets = [current_snippet]\n",
    "                \n",
    "        lines.append(current_line_snippets)\n",
    "        return lines\n",
    "\n",
    "    def process_lines(grouped_lines):\n",
    "        processed_lines = []\n",
    "        for line_snippets in grouped_lines:\n",
    "            line_snippets.sort(key=lambda s: s['bbox'][0])\n",
    "            \n",
    "            full_text = \"\".join(s['text'] for s in line_snippets).strip()\n",
    "            if not full_text:\n",
    "                continue\n",
    "                \n",
    "            import re\n",
    "            \n",
    "            toc_pattern = re.compile(r'^(.*?)\\.{3,}\\s*\\d+$')\n",
    "            match = toc_pattern.match(full_text)\n",
    "            if match:\n",
    "                full_text = match.group(1).strip()\n",
    "            \n",
    "            elif full_text.endswith('...') and full_text.count('.') > 3:\n",
    "                full_text = full_text.rstrip('.')\n",
    "\n",
    "            x0 = min(s['bbox'][0] for s in line_snippets)\n",
    "            y0 = min(s['bbox'][1] for s in line_snippets)\n",
    "            x1 = max(s['bbox'][2] for s in line_snippets)\n",
    "            y1 = max(s['bbox'][3] for s in line_snippets)\n",
    "            \n",
    "            avg_font_size = sum(s['font_size'] for s in line_snippets) / len(line_snippets)\n",
    "            \n",
    "            processed_lines.append({\n",
    "                \"text\": full_text,\n",
    "                \"page\": line_snippets[0]['page'],\n",
    "                \"avg_font_size\": avg_font_size,\n",
    "                \"y_position\": line_snippets[0]['y_position'],\n",
    "                \"bbox\": (x0, y0, x1, y1),\n",
    "                \"font_name\": line_snippets[0]['font_name'],\n",
    "                \"source_pdf\": os.path.basename(pdf_path)\n",
    "            })\n",
    "        return processed_lines\n",
    "\n",
    "    grouped_lines = group_snippets_into_lines(sorted_snippets)\n",
    "    final_lines = process_lines(grouped_lines)\n",
    "    \n",
    "    # Get document statistics\n",
    "    def get_doc_stats(lines):\n",
    "        font_sizes = [round(l['avg_font_size'], 2) for l in lines if l['text']]\n",
    "        if not font_sizes:\n",
    "            return {'modal_font_size': 10.0}\n",
    "            \n",
    "        modal_font_size = Counter(font_sizes).most_common(1)[0][0]\n",
    "        return {\n",
    "            'modal_font_size': modal_font_size\n",
    "        }\n",
    "    \n",
    "    document_stats = get_doc_stats(final_lines)\n",
    "    \n",
    "    # Engineer features\n",
    "    def engineer_features(lines, doc_stats):\n",
    "        modal_font_size = doc_stats['modal_font_size']\n",
    "        \n",
    "        for i, line in enumerate(lines):\n",
    "            font_name_lower = line['font_name'].lower()\n",
    "            line['is_bold'] = any(indicator in font_name_lower for indicator in ['bold', 'black', 'heavy', 'sembold'])\n",
    "\n",
    "            line['is_all_caps'] = line['text'].isupper() and len(line['text']) > 3\n",
    "            \n",
    "            line['text_len'] = len(line['text'])\n",
    "\n",
    "            numbering_pattern = re.compile(\n",
    "                r'^\\s*(?:(?:Chapter|Section)\\s+[\\w\\d]+|'\n",
    "                r'\\d{1,2}(?:\\.\\d{1,2})*\\.?|'\n",
    "                r'[A-Z]\\.|'\n",
    "                r'\\([a-z]\\)|'\n",
    "                r'[ivx]+\\.)'\n",
    "            )\n",
    "            line['starts_with_numbering'] = bool(numbering_pattern.match(line['text']))\n",
    "\n",
    "            if modal_font_size > 0:\n",
    "                line['relative_font_size'] = line['avg_font_size'] / modal_font_size\n",
    "            else:\n",
    "                line['relative_font_size'] = 1.0\n",
    "\n",
    "            line['norm_y_pos'] = line['y_position'] / PAGE_HEIGHT\n",
    "\n",
    "            line_center = (line['bbox'][0] + line['bbox'][2]) / 2\n",
    "            page_center = PAGE_WIDTH / 2\n",
    "            line['is_centered'] = abs(line_center - page_center) < (0.1 * PAGE_WIDTH)\n",
    "\n",
    "            space_before = -1\n",
    "            space_after = -1\n",
    "            \n",
    "            if i > 0 and lines[i-1]['page'] == line['page']:\n",
    "                prev_line_bottom = lines[i-1]['bbox'][3]\n",
    "                current_line_top = line['bbox'][1]\n",
    "                space_before = current_line_top - prev_line_bottom\n",
    "                \n",
    "            if i < len(lines) - 1 and lines[i+1]['page'] == line['page']:\n",
    "                current_line_bottom = line['bbox'][3]\n",
    "                next_line_top = lines[i+1]['bbox'][1]\n",
    "                space_after = next_line_top - current_line_bottom\n",
    "\n",
    "            line['space_before'] = space_before\n",
    "            line['space_after'] = space_after\n",
    "            \n",
    "        return lines\n",
    "    \n",
    "    featured_lines = engineer_features(final_lines, document_stats)\n",
    "    \n",
    "    # Label dataset\n",
    "    def normalize_text(text):\n",
    "        if not isinstance(text, str):\n",
    "            return \"\"\n",
    "        text = text.lower()\n",
    "        text = text.strip()\n",
    "        text = re.sub(r'[\\u2013\\u2014]', '-', text)\n",
    "        text = re.sub(r'\\s+', ' ', text)\n",
    "        return text\n",
    "\n",
    "    def create_labeled_dataset_final(featured_lines, ground_truth_headings, ground_truth_title, fuzz_threshold=85):\n",
    "        gt_headings_by_page = {}\n",
    "        for h in ground_truth_headings:\n",
    "            page = h['page']\n",
    "            if page not in gt_headings_by_page:\n",
    "                gt_headings_by_page[page] = []\n",
    "            gt_headings_by_page[page].append({\n",
    "                'level': h['level'],\n",
    "                'norm_text': normalize_text(h['text'])\n",
    "            })\n",
    "        \n",
    "        page_1_lines = [line for line in featured_lines if line['page'] == 1]\n",
    "        if page_1_lines:\n",
    "            title_candidate = max(page_1_lines, key=lambda l: l['relative_font_size'])\n",
    "            \n",
    "            norm_gt_title = normalize_text(ground_truth_title)\n",
    "            \n",
    "            title_text_to_check = normalize_text(title_candidate['text'])\n",
    "            candidate_index = featured_lines.index(title_candidate)\n",
    "            if candidate_index + 1 < len(featured_lines):\n",
    "                next_line = featured_lines[candidate_index+1]\n",
    "                if abs(next_line['avg_font_size'] - title_candidate['avg_font_size']) < 1:\n",
    "                     title_text_to_check += \" \" + normalize_text(next_line['text'])\n",
    "\n",
    "            if fuzz.partial_ratio(title_text_to_check, norm_gt_title) > fuzz_threshold:\n",
    "                title_candidate['label'] = 'Title'\n",
    "                if \" \" in title_text_to_check:\n",
    "                     featured_lines[candidate_index+1]['label'] = 'Title'\n",
    "                \n",
    "        for line in featured_lines:\n",
    "            if 'label' in line:\n",
    "                continue\n",
    "                \n",
    "            line['label'] = 'Body Text'\n",
    "            page_num = line['page']\n",
    "            \n",
    "            if page_num in gt_headings_by_page:\n",
    "                norm_line_text = normalize_text(line['text'])\n",
    "                \n",
    "                best_match = max(\n",
    "                    gt_headings_by_page[page_num],\n",
    "                    key=lambda h: fuzz.ratio(norm_line_text, h['norm_text']),\n",
    "                    default=None\n",
    "                )\n",
    "                \n",
    "                if best_match:\n",
    "                    score = fuzz.ratio(norm_line_text, best_match['norm_text'])\n",
    "                    if score > fuzz_threshold:\n",
    "                        line['label'] = best_match['level']\n",
    "                        \n",
    "        return featured_lines\n",
    "    \n",
    "    # Load ground truth data\n",
    "    with open(json_path, 'r', encoding='utf-8') as f:\n",
    "        out = json.load(f)\n",
    "    \n",
    "    # Correct page numbering\n",
    "    corrected_outline = [{**h, 'page': h['page'] + 1} for h in out['outline']]\n",
    "    \n",
    "    # Create labeled dataset\n",
    "    labeled_lines = create_labeled_dataset_final(featured_lines, corrected_outline, out['title'])\n",
    "    \n",
    "    # Fix page numbers to be 0-indexed\n",
    "    for line in labeled_lines:\n",
    "        line['page'] -= 1\n",
    "    \n",
    "    # Convert to DataFrame\n",
    "    df = pd.DataFrame(labeled_lines)\n",
    "        \n",
    "    return df"
   ]
  },
  {
   "cell_type": "markdown",
   "id": "23228f03",
   "metadata": {},
   "source": [
    "# Executing Batch Processing\n",
    "Now that we've created our function to process individual PDF files, let's create an output directory for our labeled data and then process all the PDF files with matching JSON files in batch."
   ]
  },
  {
   "cell_type": "code",
   "execution_count": 69,
   "id": "9ca6f8cb",
   "metadata": {},
   "outputs": [
    {
     "name": "stdout",
     "output_type": "stream",
     "text": [
      "Processing: E0CCG5S239.pdf\n",
      "Processing: E0H1CM114.pdf\n",
      "Processing: E0CCG5S312.pdf\n",
      "Processing: STEMPathwaysFlyer.pdf\n",
      "Processing: TOPJUMP-PARTY-INVITATION-20161003-V01.pdf\n",
      "Successfully processed 5 PDF files.\n"
     ]
    }
   ],
   "source": [
    "# Create output directory for labeled data CSVs\n",
    "\n",
    "# Process all PDF files with matching JSON files\n",
    "all_dataframes = []\n",
    "\n",
    "for pdf_path, json_path in pdf_to_json.items():\n",
    "    try:\n",
    "        df = process_pdf_file(pdf_path, json_path)\n",
    "        all_dataframes.append(df)\n",
    "    except Exception as e:\n",
    "        print(f\"Error processing {pdf_path}: {str(e)}\")\n",
    "\n",
    "print(f\"Successfully processed {len(all_dataframes)} PDF files.\")"
   ]
  },
  {
   "cell_type": "markdown",
   "id": "937941ab",
   "metadata": {},
   "source": [
    "# Combining All Data into a Single Dataset\n",
    "Let's combine all the individual labeled datasets into one large dataset, which will be useful for training machine learning models. We'll concatenate all the DataFrames and save the result to a single CSV file."
   ]
  },
  {
   "cell_type": "code",
   "execution_count": 70,
   "id": "539a2c1e",
   "metadata": {},
   "outputs": [
    {
     "name": "stdout",
     "output_type": "stream",
     "text": [
      "Combined dataset created with 937 rows\n",
      "\n",
      "Label distribution in the combined dataset:\n",
      "label\n",
      "Body Text    871\n",
      "H3            26\n",
      "H2            20\n",
      "H1            12\n",
      "Title          4\n",
      "H4             4\n",
      "Name: count, dtype: int64\n",
      "\n",
      "Number of rows from each PDF:\n",
      "source_pdf\n",
      "E0H1CM114.pdf                                488\n",
      "E0CCG5S312.pdf                               283\n",
      "STEMPathwaysFlyer.pdf                        109\n",
      "E0CCG5S239.pdf                                45\n",
      "TOPJUMP-PARTY-INVITATION-20161003-V01.pdf     12\n",
      "Name: count, dtype: int64\n"
     ]
    }
   ],
   "source": [
    "# Combine all DataFrames into a single dataset\n",
    "if all_dataframes:\n",
    "    combined_df = pd.concat(all_dataframes, ignore_index=True)\n",
    "    \n",
    "    print(f\"Combined dataset created with {len(combined_df)} rows\")\n",
    "    \n",
    "    # Display statistics about the combined dataset\n",
    "    label_counts = combined_df['label'].value_counts()\n",
    "    print(\"\\nLabel distribution in the combined dataset:\")\n",
    "    print(label_counts)\n",
    "    \n",
    "    pdf_counts = combined_df['source_pdf'].value_counts()\n",
    "    print(\"\\nNumber of rows from each PDF:\")\n",
    "    print(pdf_counts)\n",
    "else:\n",
    "    print(\"No data to combine. Please check that PDF processing was successful.\")"
   ]
  },
  {
   "cell_type": "markdown",
   "id": "8fc78806",
   "metadata": {},
   "source": [
    "# Finalizing the Dataset\n",
    "Let's finalize our dataset by renaming the combined dataset for clarity and generating additional statistics."
   ]
  },
  {
   "cell_type": "code",
   "execution_count": 71,
   "id": "5ac775c9",
   "metadata": {},
   "outputs": [
    {
     "name": "stdout",
     "output_type": "stream",
     "text": [
      "Created final dataset with 937 rows from 5 PDFs\n",
      "Saved to final_dataset.csv\n",
      "\n",
      "Final Dataset Statistics:\n",
      "Total rows: 937\n",
      "Unique PDFs: 5\n",
      "\n",
      "Label distribution:\n",
      "label\n",
      "Body Text    871\n",
      "H3            26\n",
      "H2            20\n",
      "H1            12\n",
      "Title          4\n",
      "H4             4\n",
      "Name: count, dtype: int64\n",
      "\n",
      "Rows by PDF and label type:\n",
      "label                                      Body Text   H1    H2    H3   H4  \\\n",
      "source_pdf                                                                   \n",
      "E0CCG5S239.pdf                                  43.0  0.0   0.0   0.0  0.0   \n",
      "E0CCG5S312.pdf                                 263.0  8.0  10.0   0.0  0.0   \n",
      "E0H1CM114.pdf                                  449.0  2.0   8.0  25.0  4.0   \n",
      "STEMPathwaysFlyer.pdf                          105.0  1.0   2.0   1.0  0.0   \n",
      "TOPJUMP-PARTY-INVITATION-20161003-V01.pdf       11.0  1.0   0.0   0.0  0.0   \n",
      "\n",
      "label                                      Title  \n",
      "source_pdf                                        \n",
      "E0CCG5S239.pdf                               2.0  \n",
      "E0CCG5S312.pdf                               2.0  \n",
      "E0H1CM114.pdf                                0.0  \n",
      "STEMPathwaysFlyer.pdf                        0.0  \n",
      "TOPJUMP-PARTY-INVITATION-20161003-V01.pdf    0.0  \n"
     ]
    }
   ],
   "source": [
    "# We'll use the dataframes we've already created\n",
    "if all_dataframes:\n",
    "    # This is already our final DataFrame\n",
    "    final_df = combined_df\n",
    "    \n",
    "    # Save to CSV with a different name to distinguish it\n",
    "    final_csv_path = os.path.join(\"final_dataset.csv\")\n",
    "    final_df.to_csv(final_csv_path, index=False)\n",
    "    \n",
    "    print(f\"Created final dataset with {len(final_df)} rows from {len(all_dataframes)} PDFs\")\n",
    "    print(f\"Saved to {final_csv_path}\")\n",
    "    \n",
    "    # Display dataset statistics\n",
    "    print(\"\\nFinal Dataset Statistics:\")\n",
    "    print(f\"Total rows: {len(final_df)}\")\n",
    "    print(f\"Unique PDFs: {final_df['source_pdf'].nunique()}\")\n",
    "    print(\"\\nLabel distribution:\")\n",
    "    print(final_df['label'].value_counts())\n",
    "    \n",
    "    # Create a summary table by PDF source\n",
    "    pdf_summary = final_df.groupby('source_pdf')['label'].value_counts().unstack().fillna(0)\n",
    "    print(\"\\nRows by PDF and label type:\")\n",
    "    print(pdf_summary)\n",
    "else:\n",
    "    print(\"No data to combine.\")"
   ]
  },
  {
   "cell_type": "markdown",
   "id": "983f2e16",
   "metadata": {},
   "source": [
    "Import required libraries for Model Training and Evaluation"
   ]
  },
  {
   "cell_type": "code",
   "execution_count": 72,
   "id": "9f417c20",
   "metadata": {},
   "outputs": [],
   "source": [
    "import pandas as pd\n",
    "from sklearn.model_selection import train_test_split\n",
    "from sklearn.ensemble import RandomForestClassifier\n",
    "from sklearn.metrics import classification_report, confusion_matrix, accuracy_score\n",
    "from sklearn.preprocessing import LabelEncoder\n",
    "import seaborn as sns\n",
    "import matplotlib.pyplot as plt"
   ]
  },
  {
   "cell_type": "markdown",
   "id": "bfc67719",
   "metadata": {},
   "source": [
    "Feature selection"
   ]
  },
  {
   "cell_type": "code",
   "execution_count": 73,
   "id": "a55956e7",
   "metadata": {},
   "outputs": [],
   "source": [
    "features = [\n",
    "    'page',\n",
    "    'avg_font_size',\n",
    "    'y_position',\n",
    "    'font_name',\n",
    "    'is_bold',\n",
    "    'is_all_caps',\n",
    "    'text_len',\n",
    "    'starts_with_numbering',\n",
    "    'relative_font_size',\n",
    "    'norm_y_pos',\n",
    "    'is_centered',\n",
    "    'space_before',\n",
    "    'space_after'\n",
    "]\n",
    "\n",
    "target = 'label'\n",
    "\n",
    "# Create the feature matrix (X) and target vector (y)\n",
    "X = final_df[features].copy()\n",
    "y = final_df[target]"
   ]
  },
  {
   "cell_type": "markdown",
   "id": "7fd35b5c",
   "metadata": {},
   "source": [
    " A Random Forest can't handle string-based categorical features directly.\n",
    " We need to convert the 'font_name' column into numerical format.\n",
    " LabelEncoder assigns a unique integer to each unique font name.\n"
   ]
  },
  {
   "cell_type": "code",
   "execution_count": 74,
   "id": "8f095df4",
   "metadata": {},
   "outputs": [
    {
     "name": "stdout",
     "output_type": "stream",
     "text": [
      "--- Unique Labels Found in Dataset ---\n",
      "['Title' 'Body Text' 'H1' 'H2' 'H3' 'H4']\n",
      "------------------------------\n"
     ]
    }
   ],
   "source": [
    "print(\"--- Unique Labels Found in Dataset ---\")\n",
    "print(final_df['label'].unique())\n",
    "print(\"-\" * 30)\n"
   ]
  },
  {
   "cell_type": "code",
   "execution_count": 75,
   "id": "aa5cb6b4",
   "metadata": {},
   "outputs": [
    {
     "name": "stdout",
     "output_type": "stream",
     "text": [
      "--- Target Label Encoding ---\n",
      "'Body Text' -> 0\n",
      "'H1' -> 1\n",
      "'H2' -> 2\n",
      "'H3' -> 3\n",
      "'H4' -> 4\n",
      "'Title' -> 5\n",
      "------------------------------\n"
     ]
    }
   ],
   "source": [
    "font_encoder = LabelEncoder()\n",
    "X['font_name'] = font_encoder.fit_transform(X['font_name'])\n",
    "\n",
    "# The target labels (H1, H2, etc.) also need to be encoded.\n",
    "label_encoder = LabelEncoder()\n",
    "y_encoded = label_encoder.fit_transform(y)\n",
    "\n",
    "# We can see the mapping of encoded labels to original labels\n",
    "# This is useful for interpreting the results later.\n",
    "print(\"--- Target Label Encoding ---\")\n",
    "for i, class_name in enumerate(label_encoder.classes_):\n",
    "    print(f\"'{class_name}' -> {i}\")\n",
    "print(\"-\" * 30)\n"
   ]
  },
  {
   "cell_type": "markdown",
   "id": "125e8e43",
   "metadata": {},
   "source": [
    "Split Data into Training and Testing Sets"
   ]
  },
  {
   "cell_type": "code",
   "execution_count": 76,
   "id": "5664a40c",
   "metadata": {},
   "outputs": [
    {
     "name": "stdout",
     "output_type": "stream",
     "text": [
      "Training set size: 749 samples\n",
      "Testing set size: 188 samples\n",
      "------------------------------\n"
     ]
    }
   ],
   "source": [
    "X_train, X_test, y_train, y_test = train_test_split(\n",
    "    X, y_encoded, test_size=0.2, random_state=10101, stratify=y_encoded\n",
    ")\n",
    "\n",
    "print(f\"Training set size: {X_train.shape[0]} samples\")\n",
    "print(f\"Testing set size: {X_test.shape[0]} samples\")\n",
    "print(\"-\" * 30)"
   ]
  },
  {
   "cell_type": "markdown",
   "id": "d5bd19f4",
   "metadata": {},
   "source": [
    "Train the Random Forest Model"
   ]
  },
  {
   "cell_type": "code",
   "execution_count": 77,
   "id": "1f71431b",
   "metadata": {},
   "outputs": [
    {
     "name": "stdout",
     "output_type": "stream",
     "text": [
      "Training the Random Forest model...\n",
      "Model training complete.\n",
      "------------------------------\n"
     ]
    }
   ],
   "source": [
    "rf_classifier = RandomForestClassifier(\n",
    "    n_estimators=100,\n",
    "    random_state=123,\n",
    "    class_weight='balanced',\n",
    "    oob_score=True, # Out-of-bag score to estimate generalization accuracy\n",
    "    n_jobs=-1 # Use all available CPU cores\n",
    ")\n",
    "\n",
    "print(\"Training the Random Forest model...\")\n",
    "rf_classifier.fit(X_train, y_train)\n",
    "print(\"Model training complete.\")\n",
    "print(\"-\" * 30)\n"
   ]
  },
  {
   "cell_type": "markdown",
   "id": "bd058502",
   "metadata": {},
   "source": [
    "Evaluate Model Performance"
   ]
  },
  {
   "cell_type": "code",
   "execution_count": 78,
   "id": "1b3a435c",
   "metadata": {},
   "outputs": [
    {
     "name": "stdout",
     "output_type": "stream",
     "text": [
      "--- Classification Report ---\n",
      "              precision    recall  f1-score   support\n",
      "\n",
      "   Body Text       0.97      1.00      0.99       175\n",
      "          H1       1.00      1.00      1.00         2\n",
      "          H2       1.00      0.75      0.86         4\n",
      "          H3       1.00      0.60      0.75         5\n",
      "          H4       0.00      0.00      0.00         1\n",
      "       Title       0.00      0.00      0.00         1\n",
      "\n",
      "    accuracy                           0.97       188\n",
      "   macro avg       0.66      0.56      0.60       188\n",
      "weighted avg       0.96      0.97      0.97       188\n",
      "\n",
      "------------------------------\n",
      "Overall Model Accuracy: 0.9734\n",
      "Out-of-Bag (OOB) Score: 0.9626\n",
      "------------------------------\n",
      "--- Confusion Matrix ---\n"
     ]
    },
    {
     "name": "stderr",
     "output_type": "stream",
     "text": [
      "/home/a7x/projects/adobe-hack/venv/lib/python3.12/site-packages/sklearn/metrics/_classification.py:1706: UndefinedMetricWarning: Precision is ill-defined and being set to 0.0 in labels with no predicted samples. Use `zero_division` parameter to control this behavior.\n",
      "  _warn_prf(average, modifier, f\"{metric.capitalize()} is\", result.shape[0])\n",
      "/home/a7x/projects/adobe-hack/venv/lib/python3.12/site-packages/sklearn/metrics/_classification.py:1706: UndefinedMetricWarning: Precision is ill-defined and being set to 0.0 in labels with no predicted samples. Use `zero_division` parameter to control this behavior.\n",
      "  _warn_prf(average, modifier, f\"{metric.capitalize()} is\", result.shape[0])\n",
      "/home/a7x/projects/adobe-hack/venv/lib/python3.12/site-packages/sklearn/metrics/_classification.py:1706: UndefinedMetricWarning: Precision is ill-defined and being set to 0.0 in labels with no predicted samples. Use `zero_division` parameter to control this behavior.\n",
      "  _warn_prf(average, modifier, f\"{metric.capitalize()} is\", result.shape[0])\n"
     ]
    },
    {
     "data": {
      "image/png": "[encoded data removed]",
      "text/plain": [
       "<Figure size 1000x800 with 2 Axes>"
      ]
     },
     "metadata": {},
     "output_type": "display_data"
    },
    {
     "name": "stdout",
     "output_type": "stream",
     "text": [
      "--- Feature Importances ---\n",
      "                  Feature  Importance\n",
      "8      relative_font_size    0.140579\n",
      "12            space_after    0.135825\n",
      "1           avg_font_size    0.132376\n",
      "11           space_before    0.105726\n",
      "3               font_name    0.103993\n",
      "6                text_len    0.080048\n",
      "9              norm_y_pos    0.078119\n",
      "0                    page    0.070799\n",
      "4                 is_bold    0.061326\n",
      "2              y_position    0.061245\n",
      "10            is_centered    0.018097\n",
      "7   starts_with_numbering    0.011524\n",
      "5             is_all_caps    0.000343\n"
     ]
    },
    {
     "data": {
      "image/png": "[encoded data removed]",
      "text/plain": [
       "<Figure size 1200x800 with 1 Axes>"
      ]
     },
     "metadata": {},
     "output_type": "display_data"
    }
   ],
   "source": [
    "y_pred = rf_classifier.predict(X_test)\n",
    "\n",
    "# Decode the predictions and true labels to get the original string labels\n",
    "y_pred_labels = label_encoder.inverse_transform(y_pred)\n",
    "y_test_labels = label_encoder.inverse_transform(y_test)\n",
    "\n",
    "# --- Classification Report ---\n",
    "# This report shows the main classification metrics: precision, recall, and f1-score for each class.\n",
    "# This is exactly what the hackathon scoring criteria mentions.\n",
    "print(\"--- Classification Report ---\")\n",
    "print(classification_report(y_test_labels, y_pred_labels))\n",
    "print(\"-\" * 30)\n",
    "\n",
    "\n",
    "# --- Accuracy Score ---\n",
    "accuracy = accuracy_score(y_test, y_pred)\n",
    "print(f\"Overall Model Accuracy: {accuracy:.4f}\")\n",
    "print(f\"Out-of-Bag (OOB) Score: {rf_classifier.oob_score_:.4f}\")\n",
    "print(\"-\" * 30)\n",
    "\n",
    "\n",
    "# --- Confusion Matrix ---\n",
    "# A confusion matrix gives a detailed breakdown of which classes are being confused with others.\n",
    "print(\"--- Confusion Matrix ---\")\n",
    "conf_matrix = confusion_matrix(y_test_labels, y_pred_labels, labels=label_encoder.classes_)\n",
    "plt.figure(figsize=(10, 8))\n",
    "sns.heatmap(conf_matrix, annot=True, fmt='d', cmap='Blues',\n",
    "            xticklabels=label_encoder.classes_, yticklabels=label_encoder.classes_)\n",
    "plt.xlabel('Predicted Label')\n",
    "plt.ylabel('True Label')\n",
    "plt.title('Confusion Matrix')\n",
    "plt.show()\n",
    "\n",
    "\n",
    "# --- 7. Feature Importance ---\n",
    "# Random Forest can tell us which features were most influential in making predictions.\n",
    "print(\"--- Feature Importances ---\")\n",
    "importances = rf_classifier.feature_importances_\n",
    "feature_importance_df = pd.DataFrame({\n",
    "    'Feature': features,\n",
    "    'Importance': importances\n",
    "}).sort_values(by='Importance', ascending=False)\n",
    "\n",
    "print(feature_importance_df)\n",
    "\n",
    "plt.figure(figsize=(12, 8))\n",
    "sns.barplot(x='Importance', y='Feature', data=feature_importance_df)\n",
    "plt.title('Feature Importances in Random Forest Model')\n",
    "plt.tight_layout()\n",
    "plt.show()"
   ]
  },
  {
   "cell_type": "code",
   "execution_count": null,
   "id": "13082b6f",
   "metadata": {},
   "outputs": [],
   "source": [
    "# run the model using entire dataset as test set\n",
    "\n",
    "y_pred_full = rf_classifier.predict(X)\n",
    "y_pred_labels_full = label_encoder.inverse_transform(y_pred_full)\n",
    "# check if the predictions are correct\n",
    "correct_predictions = (y_pred_labels_full == final_df[target].values)\n",
    "accuracy_full = correct_predictions.mean()\n",
    "print(f\"Accuracy on full dataset: {accuracy_full:.4f}\")\n",
    "print(\"-\" * 30)"
   ]
  }
 ],
 "metadata": {
  "kernelspec": {
   "display_name": "venv",
   "language": "python",
   "name": "python3"
  },
  "language_info": {
   "codemirror_mode": {
    "name": "ipython",
    "version": 3
   },
   "file_extension": ".py",
   "mimetype": "text/x-python",
   "name": "python",
   "nbconvert_exporter": "python",
   "pygments_lexer": "ipython3",
   "version": "3.12.3"
  }
 },
 "nbformat": 4,
 "nbformat_minor": 5
}
